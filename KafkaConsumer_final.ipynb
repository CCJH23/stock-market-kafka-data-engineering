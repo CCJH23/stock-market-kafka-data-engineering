{
 "cells": [
  {
   "cell_type": "code",
   "execution_count": 1,
   "id": "3461bfa4-e7de-42b5-951e-fc6122b947e3",
   "metadata": {},
   "outputs": [],
   "source": [
    "import pandas as pd\n",
    "from kafka import KafkaConsumer\n",
    "from time import sleep\n",
    "from json import dumps, loads\n",
    "import json\n",
    "from s3fs import S3FileSystem"
   ]
  },
  {
   "cell_type": "code",
   "execution_count": 2,
   "id": "95371ab5-11d6-49af-8ffc-b9cfca28cbbb",
   "metadata": {},
   "outputs": [],
   "source": [
    "# initialise consumer\n",
    "consumer = KafkaConsumer('demo_test',\n",
    "                         bootstrap_servers=['54.169.74.72:9092'],\n",
    "                         value_deserializer=lambda x: loads(x.decode('utf-8')))"
   ]
  },
  {
   "cell_type": "code",
   "execution_count": 5,
   "id": "e41527b4-5052-41f8-be73-80c6e1637419",
   "metadata": {},
   "outputs": [],
   "source": [
    "# initialise s3 \n",
    "s3 = S3FileSystem()"
   ]
  },
  {
   "cell_type": "code",
   "execution_count": null,
   "id": "22dfceec-4b77-4b41-a403-44a7dbe948b9",
   "metadata": {},
   "outputs": [
    {
     "name": "stdout",
     "output_type": "stream",
     "text": [
      "{'Index': 'N225', 'Date': '1985-12-24', 'Open': 13010.70996, 'High': 13010.70996, 'Low': 13010.70996, 'Close': 13010.70996, 'Adj Close': 13010.70996, 'Volume': 0.0, 'CloseUSD': 130.1070996}\n",
      "{'Index': 'SSMI', 'Date': '2005-10-24', 'Open': 6872.299805, 'High': 6921.899902, 'Low': 6845.899902, 'Close': 6911.799805, 'Adj Close': 6911.799805, 'Volume': 39174400.0, 'CloseUSD': 7672.097783550001}\n",
      "{'Index': '000001.SS', 'Date': '2019-10-14', 'Open': 2993.959961, 'High': 3026.379883, 'Low': 2989.810059, 'Close': 3007.879883, 'Adj Close': 3007.879883, 'Volume': 208600.0, 'CloseUSD': 481.26078128}\n",
      "{'Index': 'N100', 'Date': '2014-08-18', 'Open': 811.929993, 'High': 812.820007, 'Low': 808.47998, 'Close': 811.799988, 'Adj Close': 811.799988, 'Volume': 137428400.0, 'CloseUSD': 990.39598536}\n",
      "{'Index': 'TWII', 'Date': '2005-10-04', 'Open': 6141.740234, 'High': 6158.680176, 'Low': 6114.02002, 'Close': 6142.120117, 'Adj Close': 6142.097656, 'Volume': 3233400.0, 'CloseUSD': 245.68480468}\n",
      "{'Index': 'N225', 'Date': '1988-12-26', 'Open': 29697.34961, 'High': 29872.18945, 'Low': 29697.34961, 'Close': 29868.00977, 'Adj Close': 29868.00977, 'Volume': 0.0, 'CloseUSD': 298.68009770000003}\n",
      "{'Index': 'GSPTSE', 'Date': '1988-01-28', 'Open': 3078.899902, 'High': 3081.600098, 'Low': 3051.300049, 'Close': 3060.699951, 'Adj Close': 3052.92749, 'Volume': 23210000.0, 'CloseUSD': 2540.38095933}\n",
      "{'Index': 'N225', 'Date': '1970-11-17', 'Open': 2075.659912, 'High': 2075.659912, 'Low': 2075.659912, 'Close': 2075.659912, 'Adj Close': 2075.659912, 'Volume': 0.0, 'CloseUSD': 20.75659912}\n",
      "{'Index': 'N225', 'Date': '1979-08-14', 'Open': 6395.220215, 'High': 6395.220215, 'Low': 6395.220215, 'Close': 6395.220215, 'Adj Close': 6395.220215, 'Volume': 0.0, 'CloseUSD': 63.952202150000005}\n",
      "{'Index': 'N100', 'Date': '2018-10-11', 'Open': 994.039978, 'High': 1002.869995, 'Low': 989.429993, 'Close': 990.23999, 'Adj Close': 990.23999, 'Volume': 319693800.0, 'CloseUSD': 1208.0927878}\n",
      "{'Index': 'TWII', 'Date': '2011-11-28', 'Open': 6844.299805, 'High': 6920.790039, 'Low': 6844.299805, 'Close': 6898.779785, 'Adj Close': 6898.753906, 'Volume': 1637000.0, 'CloseUSD': 275.9511914}\n",
      "{'Index': 'IXIC', 'Date': '2011-09-09', 'Open': 2508.120117, 'High': 2518.399902, 'Low': 2452.929932, 'Close': 2467.98999, 'Adj Close': 2467.98999, 'Volume': 2054190000.0, 'CloseUSD': 2467.98999}\n"
     ]
    }
   ],
   "source": [
    "# to iterate through the data received by the consumer, using the index for unique object naming, converting the stock data \n",
    "# into Python dictionary and writing the dictionary to the file before storing the file in s3  \n",
    "for index, stockData in enumerate(consumer):\n",
    "    with s3.open(\"s3://kafka-stock-market-project-clovis/stock_market_{}.json\".format(index), 'w') as file:\n",
    "        json.dump(stockData.value, file)\n",
    "        print(stockData.value)"
   ]
  }
 ],
 "metadata": {
  "kernelspec": {
   "display_name": "Python 3 (ipykernel)",
   "language": "python",
   "name": "python3"
  },
  "language_info": {
   "codemirror_mode": {
    "name": "ipython",
    "version": 3
   },
   "file_extension": ".py",
   "mimetype": "text/x-python",
   "name": "python",
   "nbconvert_exporter": "python",
   "pygments_lexer": "ipython3",
   "version": "3.12.1"
  }
 },
 "nbformat": 4,
 "nbformat_minor": 5
}
